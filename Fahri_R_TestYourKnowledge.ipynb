{
 "cells": [
  {
   "cell_type": "markdown",
   "metadata": {},
   "source": [
    "Fahri Radiansyah\n",
    "J0403231044\n",
    "TPL P-1"
   ]
  },
  {
   "cell_type": "code",
   "execution_count": 1,
   "metadata": {},
   "outputs": [
    {
     "name": "stdout",
     "output_type": "stream",
     "text": [
      "33°C is equal to 91.4°F\n",
      "90°F is equal to 32.22222222222222°C\n"
     ]
    }
   ],
   "source": [
    "# Temperature convert\n",
    "\n",
    "def convert_temperature(temperature, scale):\n",
    "    \"\"\"\n",
    "    Convert a temperature value between Celsius and Fahrenheit scales.\n",
    "\n",
    "    Args:\n",
    "        temperature (float): The temperature value to be converted.\n",
    "        scale (str): The scale to convert from or to ('C' for Celsius, 'F' for Fahrenheit).\n",
    "\n",
    "    Returns:\n",
    "        float: The converted temperature value in the opposite scale.\n",
    "\n",
    "    Raises:\n",
    "        ValueError: If the 'scale' argument is not 'C' or 'F'.\n",
    "\n",
    "    Examples:\n",
    "        >>> convert_temperature(32, 'F')\n",
    "        0.0\n",
    "        >>> convert_temperature(100, 'C')\n",
    "        212.0\n",
    "    \"\"\"\n",
    "    if scale == 'C':\n",
    "        # Convert from Celsius to Fahrenheit\n",
    "        converted_temperature = (temperature * 9/5) + 32\n",
    "    elif scale == 'F':\n",
    "        # Convert from Fahrenheit to Celsius\n",
    "        converted_temperature = (temperature - 32) * 5/9\n",
    "    else:\n",
    "        raise ValueError(\"Invalid scale. Use 'C' for Celsius or 'F' for Fahrenheit.\")\n",
    "\n",
    "    return converted_temperature\n",
    "\n",
    "# Usage examples\n",
    "celsius_temperature = 33\n",
    "fahrenheit_temperature = 90\n",
    "\n",
    "# Convert Celsius to Fahrenheit\n",
    "converted_fahrenheit = convert_temperature(celsius_temperature, 'C')\n",
    "print(f\"{celsius_temperature}°C is equal to {converted_fahrenheit}°F\")\n",
    "\n",
    "# Convert Fahrenheit to Celsius\n",
    "converted_celsius = convert_temperature(fahrenheit_temperature, 'F')\n",
    "print(f\"{fahrenheit_temperature}°F is equal to {converted_celsius}°C\")"
   ]
  },
  {
   "cell_type": "code",
   "execution_count": 2,
   "metadata": {},
   "outputs": [
    {
     "name": "stdout",
     "output_type": "stream",
     "text": [
      "Addition: 5 + 3 + 2 = 10\n",
      "Subtraction: 10 - 3 - 1 = 6\n",
      "Multiplication: 2 * 3 * 4 = 24\n",
      "Division: 15 / 3 / 5 = 1.0\n"
     ]
    }
   ],
   "source": [
    "def arithmetic_operation(operator, *args):\n",
    "    \"\"\"\n",
    "    Perform an arithmetic operation on a variable number of arguments.\n",
    "\n",
    "    Args:\n",
    "        operator (str): The arithmetic operation to perform ('+', '-', '*', or '/').\n",
    "        *args (float): Variable number of arguments on which the operation is to be performed.\n",
    "\n",
    "    Returns:\n",
    "        float: The result of the arithmetic operation.\n",
    "\n",
    "    Raises:\n",
    "        ValueError: If an invalid operator is provided or if no arguments are provided.\n",
    "\n",
    "    Examples:\n",
    "        >>> arithmetic_operation('+', 5, 3, 2)\n",
    "        10.0\n",
    "        >>> arithmetic_operation('-', 10, 3, 1)\n",
    "        6.0\n",
    "        >>> arithmetic_operation('*', 2, 3, 4)\n",
    "        24.0\n",
    "        >>> arithmetic_operation('/', 15, 3, 5)\n",
    "        1.0\n",
    "    \"\"\"\n",
    "    if not args:\n",
    "        raise ValueError(\"No arguments provided for the operation.\")\n",
    "\n",
    "    if operator == '+':\n",
    "        result = sum(args)\n",
    "    elif operator == '-':\n",
    "        result = args[0] - sum(args[1:])\n",
    "    elif operator == '*':\n",
    "        result = 1\n",
    "        for num in args:\n",
    "            result *= num\n",
    "    elif operator == '/':\n",
    "        result = args[0]\n",
    "        for num in args[1:]:\n",
    "            if num == 0:\n",
    "                raise ValueError(\"Division by zero is not allowed.\")\n",
    "            result /= num\n",
    "    else:\n",
    "        raise ValueError(\"Invalid operator. Use '+', '-', '*', or '/'.\")\n",
    "\n",
    "    return result\n",
    "\n",
    "# Usage examples\n",
    "addition_result = arithmetic_operation('+', 5, 3, 2)\n",
    "print(f\"Addition: 5 + 3 + 2 = {addition_result}\")\n",
    "\n",
    "subtraction_result = arithmetic_operation('-', 10, 3, 1)\n",
    "print(f\"Subtraction: 10 - 3 - 1 = {subtraction_result}\")\n",
    "\n",
    "multiplication_result = arithmetic_operation('*', 2, 3, 4)\n",
    "print(f\"Multiplication: 2 * 3 * 4 = {multiplication_result}\")\n",
    "\n",
    "division_result = arithmetic_operation('/', 15, 3, 5)\n",
    "print(f\"Division: 15 / 3 / 5 = {division_result}\")"
   ]
  }
 ],
 "metadata": {
  "kernelspec": {
   "display_name": "Python 3",
   "language": "python",
   "name": "python3"
  },
  "language_info": {
   "codemirror_mode": {
    "name": "ipython",
    "version": 3
   },
   "file_extension": ".py",
   "mimetype": "text/x-python",
   "name": "python",
   "nbconvert_exporter": "python",
   "pygments_lexer": "ipython3",
   "version": "3.11.4"
  }
 },
 "nbformat": 4,
 "nbformat_minor": 2
}
